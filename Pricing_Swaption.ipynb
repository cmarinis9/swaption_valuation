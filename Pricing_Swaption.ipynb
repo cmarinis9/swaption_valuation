{
 "cells": [
  {
   "cell_type": "markdown",
   "id": "e5bc60dd",
   "metadata": {},
   "source": [
    "# Table of Contents\n",
    "\n",
    "\n",
    "- [**Setup**](#Setup): Runs any imports and other setup.\n",
    "- [**Inputs swaption**](#Inputs-swaption): Defined the inputs for the model.\n",
    "- [**Cash flows**](#Cash-flows): Determining the cash flows that Australian company pays and receives.\n",
    "- [**Pricing swaption**](#Pricing-swaption):Calculating the fair price of the swaption using binomial option pricing model.\n",
    "- [**Results**](#Results):Results after pricing the swaption."
   ]
  },
  {
   "cell_type": "markdown",
   "id": "bf381f9c",
   "metadata": {},
   "source": [
    "# Setup"
   ]
  },
  {
   "cell_type": "code",
   "execution_count": 24,
   "id": "6d9ab103",
   "metadata": {},
   "outputs": [],
   "source": [
    "import numpy as np\n",
    "import numpy_financial as npf\n",
    "from datetime import date\n",
    "from dataclasses import dataclass\n",
    "\n",
    "\n"
   ]
  },
  {
   "cell_type": "markdown",
   "id": "e917359c",
   "metadata": {},
   "source": [
    "# Inputs swaption"
   ]
  },
  {
   "cell_type": "code",
   "execution_count": 25,
   "id": "02cce54c",
   "metadata": {},
   "outputs": [
    {
     "data": {
      "text/plain": [
       "SwapInputs(face_value_Austral_company=36000000, face_value_counter_party=40000000, fixed_rate_Austral=0.085, fixed_rate_counter_party=0.14, FX_USD_per_AUD=0.6, rf_US=0.09, rf_Australia=0.04, volatility=0.55, maturity_swaption=1.5, number_steps=3)"
      ]
     },
     "execution_count": 25,
     "metadata": {},
     "output_type": "execute_result"
    }
   ],
   "source": [
    "@dataclass\n",
    "class SwapInputs:   \n",
    "    #face value Australian Company\n",
    "    face_value_Austral_company: int = 36000000\n",
    "    #face value counter party\n",
    "    face_value_counter_party: int = 40000000\n",
    "    # pay fixed\n",
    "    fixed_rate_Austral: float = 0.085\n",
    "    # receive fixed\n",
    "    fixed_rate_counter_party: float = 0.14\n",
    "    # Foreign exchange 0.6USD/1AUD\n",
    "    FX_USD_per_AUD: float = 0.6\n",
    "    # risk free rate US\n",
    "    rf_US: float = 0.09\n",
    "    #risk free Australia\n",
    "    rf_Australia: float = 0.04\n",
    "    # Volatility \n",
    "    volatility: float = 0.55\n",
    "    # maturity in years\n",
    "    maturity_swaption: float = 1.5\n",
    "    # number_steps \n",
    "    number_steps: int = 3\n",
    "\n",
    "swap_data = SwapInputs()\n",
    "swap_data\n"
   ]
  },
  {
   "cell_type": "markdown",
   "id": "cfa5f8f6",
   "metadata": {},
   "source": [
    "## Calculate excact days between dates"
   ]
  },
  {
   "cell_type": "code",
   "execution_count": 26,
   "id": "eebb6bda",
   "metadata": {},
   "outputs": [
    {
     "data": {
      "text/plain": [
       "[181, 184, 181, 184, 182, 182]"
      ]
     },
     "execution_count": 26,
     "metadata": {},
     "output_type": "execute_result"
    }
   ],
   "source": [
    "t1_days = date(2026, 6, 30) - date(2025, 12,  31)\n",
    "t1=t1_days.days\n",
    "t2_days = date(2026, 12, 31) - date(2026, 6,  30)\n",
    "t2 = t2_days.days\n",
    "t3_days = date(2027, 6, 30) - date(2026, 12,  31)\n",
    "t3 = t3_days.days\n",
    "t4_days = date(2027, 12, 31) - date(2027, 6,  30)\n",
    "t4 = t4_days.days\n",
    "t5_days = date(2028, 6, 30) - date(2027, 12,  31)\n",
    "t5 = t5_days.days\n",
    "# 2028/12/31 falls on Sunday and the next working day is in a new month,\n",
    "#then the payment t6 will be made on the previous business day 2028/12/29,\n",
    "#which is typically the last working day before the weekend.\n",
    "t6_days = date(2028, 12, 29) - date(2028, 6,  30)\n",
    "t6 = t6_days.days\n",
    "days = [t1,t2,t3,t4,t5,t6]\n",
    "days\n"
   ]
  },
  {
   "cell_type": "markdown",
   "id": "c218c943",
   "metadata": {},
   "source": [
    "### Calculate coupon periods as a percentage based on convention"
   ]
  },
  {
   "cell_type": "code",
   "execution_count": 27,
   "id": "bb9733f4",
   "metadata": {},
   "outputs": [
    {
     "data": {
      "text/plain": [
       "[0.4958904109589041,\n",
       " 0.5041095890410959,\n",
       " 0.4958904109589041,\n",
       " 0.5041095890410959,\n",
       " 0.4986301369863014,\n",
       " 0.4986301369863014]"
      ]
     },
     "execution_count": 27,
     "metadata": {},
     "output_type": "execute_result"
    }
   ],
   "source": [
    "coupon_periods = [t1/365,t2/365,t3/365,t4/365,t5/365,t6/365];coupon_periods"
   ]
  },
  {
   "cell_type": "markdown",
   "id": "196aa69a",
   "metadata": {},
   "source": [
    "# Cash flows\n",
    "### Australian company pays in millions(cash flows-USD)"
   ]
  },
  {
   "cell_type": "code",
   "execution_count": 28,
   "id": "22591210",
   "metadata": {},
   "outputs": [
    {
     "name": "stdout",
     "output_type": "stream",
     "text": [
      "The cash flows that Australian company will pay each period are:\n",
      "\n",
      "[1517424.6575342466, 1542575.3424657534, 1517424.6575342466, 1542575.3424657534, 1525808.2191780822, 37525808.21917808]\n"
     ]
    }
   ],
   "source": [
    "cash_flows_pays = []\n",
    "for i in range(len(coupon_periods)):\n",
    "    cash_flow = swap_data.face_value_Austral_company*swap_data.fixed_rate_Austral*coupon_periods[i]\n",
    "    cash_flows_pays.append(cash_flow)\n",
    "        \n",
    "cash_flows_pays[5] =  cash_flows_pays[5] + swap_data.face_value_Austral_company\n",
    "print(f'The cash flows that Australian company will pay each period are:\\n')\n",
    "print(cash_flows_pays)"
   ]
  },
  {
   "cell_type": "markdown",
   "id": "fff0658e",
   "metadata": {},
   "source": [
    "### Present value of Australian company payments"
   ]
  },
  {
   "cell_type": "code",
   "execution_count": 29,
   "id": "71484e74",
   "metadata": {},
   "outputs": [],
   "source": [
    "def pv_bond(cash_flows_list,r):\n",
    "    present_value_bond = 0\n",
    "    for i in range(len(cash_flows_list)): \n",
    "        present_value_cash_flow = cash_flows_list[i] / (1 + r)**(i+1)\n",
    "        print(f'Present Value T{i+1}: {present_value_cash_flow}')\n",
    "        present_value_bond += present_value_cash_flow\n",
    "    return present_value_bond"
   ]
  },
  {
   "cell_type": "code",
   "execution_count": 30,
   "id": "b139802c",
   "metadata": {},
   "outputs": [
    {
     "name": "stdout",
     "output_type": "stream",
     "text": [
      "Present Value T1: 1452081.0119944944\n",
      "Present Value T2: 1412582.4431361496\n",
      "Present Value T3: 1329714.074306444\n",
      "Present Value T4: 1293544.0517718457\n",
      "Present Value T5: 1224386.402238797\n",
      "Present Value T6: 28815908.206950642\n",
      "\n",
      "The present value of cash flows that Australian company pays is: \u001b[1m35528216.19039837\u001b[0m million in USD.\n"
     ]
    }
   ],
   "source": [
    "bond_pays_USD = pv_bond(cash_flows_pays,swap_data.rf_US/2);bond_pays_USD\n",
    "print(f'\\nThe present value of cash flows that Australian company pays is: \\033[1m{bond_pays_USD}\\033[0m million in USD.')"
   ]
  },
  {
   "cell_type": "markdown",
   "id": "73004673",
   "metadata": {},
   "source": [
    "### Australian Company receives in millions(cash flow- AUD)\n"
   ]
  },
  {
   "cell_type": "code",
   "execution_count": 31,
   "id": "c035bfc3",
   "metadata": {},
   "outputs": [
    {
     "name": "stdout",
     "output_type": "stream",
     "text": [
      "The cash flows that the Australian company will receive are:\n",
      "\n",
      "[2776986.3013698636, 2823013.698630138, 2776986.3013698636, 2823013.698630138, 2792328.767123288, 42792328.76712329]\n"
     ]
    }
   ],
   "source": [
    "cash_flows_receives = []\n",
    "for i in range(len(coupon_periods)):\n",
    "    cash_flow = swap_data.face_value_counter_party*swap_data.fixed_rate_counter_party*coupon_periods[i]\n",
    "    cash_flows_receives.append(cash_flow)\n",
    "        \n",
    "cash_flows_receives[5] =  cash_flows_receives[5] + swap_data.face_value_counter_party\n",
    "print(f'The cash flows that the Australian company will receive are:\\n' )\n",
    "print(cash_flows_receives)"
   ]
  },
  {
   "cell_type": "markdown",
   "id": "6389f96b",
   "metadata": {},
   "source": [
    "### Present value of counter party payments in AUD"
   ]
  },
  {
   "cell_type": "code",
   "execution_count": 32,
   "id": "262ed39b",
   "metadata": {},
   "outputs": [
    {
     "name": "stdout",
     "output_type": "stream",
     "text": [
      "Present Value T1: 2722535.5895782975\n",
      "Present Value T2: 2713392.636130467\n",
      "Present Value T3: 2616816.214512012\n",
      "Present Value T4: 2608028.2930896454\n",
      "Present Value T5: 2529098.1955579463\n",
      "Present Value T6: 37998363.32230841\n",
      "\n",
      "The present value that Australian company receive is \u001b[1m51188234.25117678\u001b[0m million in AUD. \n"
     ]
    }
   ],
   "source": [
    "bond_receives_in_AUD = pv_bond(cash_flows_receives,swap_data.rf_Australia/2);bond_receives_in_AUD\n",
    "print(f'\\nThe present value that Australian company receive is \\033[1m{bond_receives_in_AUD}\\033[0m million in AUD. ')"
   ]
  },
  {
   "cell_type": "markdown",
   "id": "0335d7f7",
   "metadata": {},
   "source": [
    "# Pricing swaption "
   ]
  },
  {
   "cell_type": "code",
   "execution_count": 33,
   "id": "daeb7963",
   "metadata": {},
   "outputs": [],
   "source": [
    "def binomial_tree_pricing(sigma, r, S_0, B, K, T, N):\n",
    "    dt = T / N\n",
    "    u = np.exp(sigma * np.sqrt(dt))\n",
    "    d = 1 / u\n",
    "    q = (1+r * dt) - d / (u - d)\n",
    "    \n",
    "    \n",
    "    fx = np.zeros((N+1, N+1))\n",
    "\n",
    "    # Create the tree for the foreign exchange\n",
    "    for i in range(N+1):\n",
    "        for j in range(i+1):\n",
    "            fx[i, j] = S_0 * (d ** (i - j)) * (u ** j)\n",
    "\n",
    "    payoff = np.zeros((N+1, N+1))\n",
    "    \n",
    "    #   calculate the payoff for the swaption at expiry\n",
    "    for j in range(N+1):\n",
    "        if fx[N, j] * B - K > 0:# take the max[0,receive*foreign exchange-pay]\n",
    "            payoff[N, j] = fx[N , j] * B - K\n",
    "    \n",
    "\n",
    "    # now iterate the binomial tree backward to obtain the  prices.\n",
    "    # calculated the expected value for each node and discounted\n",
    "    for i in range(N-1, -1, -1):\n",
    "        for j in range(i,-1,-1):\n",
    "            payoff[i, j] = (1 / (1 + dt*r)) * (q * payoff[i+1, j+1] + (1 - q) * payoff[i+1, j])\n",
    "\n",
    "    return fx, payoff\n"
   ]
  },
  {
   "cell_type": "code",
   "execution_count": 34,
   "id": "44e194cc",
   "metadata": {},
   "outputs": [],
   "source": [
    "fx , payoff = binomial_tree_pricing(swap_data.volatility,\n",
    "                                swap_data.rf_US,\n",
    "                                swap_data.FX_USD_per_AUD,\n",
    "                                bond_receives_in_AUD,\n",
    "                                bond_pays_USD,\n",
    "                                swap_data.maturity_swaption,\n",
    "                                swap_data.number_steps)"
   ]
  },
  {
   "cell_type": "code",
   "execution_count": 35,
   "id": "8f77c38d",
   "metadata": {},
   "outputs": [
    {
     "name": "stdout",
     "output_type": "stream",
     "text": [
      "\u001b[1mThe tree for the foreign exchange is\u001b[0m\n",
      "\n",
      "[[0.6        0.         0.         0.        ]\n",
      " [0.40667768 0.88522193 0.         0.        ]\n",
      " [0.27564456 0.6        1.30602978 0.        ]\n",
      " [0.18683081 0.40667768 0.88522193 1.92687701]]\n"
     ]
    }
   ],
   "source": [
    "print(f'\\033[1mThe tree for the foreign exchange is\\033[0m\\n')\n",
    "print(fx)"
   ]
  },
  {
   "cell_type": "markdown",
   "id": "3534d666",
   "metadata": {},
   "source": [
    "# Results"
   ]
  },
  {
   "cell_type": "code",
   "execution_count": 36,
   "id": "31d1f547",
   "metadata": {},
   "outputs": [
    {
     "name": "stdout",
     "output_type": "stream",
     "text": [
      "[[ 1199798.79417475        0.                0.                0.        ]\n",
      " [  341331.05527503  5016351.04757808        0.                0.        ]\n",
      " [       0.          1827520.92046796 19322191.34190307        0.        ]\n",
      " [       0.                0.          9784731.45977585 63105215.80684482]]\n"
     ]
    }
   ],
   "source": [
    "print(payoff)"
   ]
  },
  {
   "cell_type": "code",
   "execution_count": 37,
   "id": "11b34c86",
   "metadata": {},
   "outputs": [
    {
     "name": "stdout",
     "output_type": "stream",
     "text": [
      "The fair price of the swaption is  \u001b[1m1199798.794174753\u001b[0m million USD$.\n"
     ]
    }
   ],
   "source": [
    "print(f'The fair price of the swaption is  \\033[1m{payoff[0,0]}\\033[0m million USD$.')"
   ]
  },
  {
   "cell_type": "code",
   "execution_count": null,
   "id": "50fb4392",
   "metadata": {},
   "outputs": [],
   "source": []
  },
  {
   "cell_type": "code",
   "execution_count": null,
   "id": "a87b1863",
   "metadata": {},
   "outputs": [],
   "source": []
  }
 ],
 "metadata": {
  "kernelspec": {
   "display_name": "Python 3 (ipykernel)",
   "language": "python",
   "name": "python3"
  },
  "language_info": {
   "codemirror_mode": {
    "name": "ipython",
    "version": 3
   },
   "file_extension": ".py",
   "mimetype": "text/x-python",
   "name": "python",
   "nbconvert_exporter": "python",
   "pygments_lexer": "ipython3",
   "version": "3.11.4"
  }
 },
 "nbformat": 4,
 "nbformat_minor": 5
}
